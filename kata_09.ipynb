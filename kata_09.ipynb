{
  "cells": [
    {
      "cell_type": "markdown",
      "metadata": {},
      "source": [
        "# Ejercicio: Uso de funciones en Python"
      ]
    },
    {
      "cell_type": "markdown",
      "metadata": {},
      "source": [
        "### Ejercicio 1: Trabajar con argumentos en funciones\n",
        "\n",
        "Los argumentos requeridos en las funciones se utilizan cuando las funciones necesitan que esos argumentos funcionen correctamente. En este ejercicio, construirás un informe de combustible que requiere información de varias ubicaciones de combustible en todo el cohete.\n",
        "\n"
      ]
    },
    {
      "cell_type": "markdown",
      "metadata": {},
      "source": [
        "\n",
        "Comienza por crear una función que necesite tres lecturas de combustible y devuelva un informe:"
      ]
    },
    {
      "cell_type": "code",
      "execution_count": 29,
      "metadata": {},
      "outputs": [
        {
          "name": "stdout",
          "output_type": "stream",
          "text": [
            "Capacidad total de los tanques: 220lts \n",
            "    Primer tanque: 32% con 70lts \n",
            "    Segundo tanque: 32% con 70lts \n",
            "    Tercer tanque: 36% con 80lts\n"
          ]
        }
      ],
      "source": [
        "# Función para leer 3 tanques de combustible y muestre el promedio\n",
        "def combustible(tanque_1, tanque_2, tanque_3):\n",
        "    capacidad_total =tanque_1+tanque_2+tanque_3\n",
        "    prom_1=tanque_1/capacidad_total*100\n",
        "    prom_2=tanque_2/capacidad_total*100\n",
        "    prom_3=tanque_3/capacidad_total*100\n",
        "\n",
        "    return f\"\"\"Capacidad total de los tanques: {capacidad_total}lts \n",
        "    Primer tanque: {round(prom_1)}% con {tanque_1}lts \n",
        "    Segundo tanque: {round(prom_2)}% con {tanque_2}lts \n",
        "    Tercer tanque: {round(prom_3)}% con {tanque_3}lts\"\"\"\n",
        "print(combustible(70,70,80))\n"
      ]
    },
    {
      "cell_type": "markdown",
      "metadata": {},
      "source": [
        "Ahora que hemos definido la función de informes, vamos a comprobarlo. Para esta misión, los tanques no están llenos:"
      ]
    },
    {
      "cell_type": "code",
      "execution_count": 30,
      "metadata": {},
      "outputs": [
        {
          "name": "stdout",
          "output_type": "stream",
          "text": [
            "Capacidad total de los tanques: 1200lts \n",
            "    Primer tanque: 8% con 100lts \n",
            "    Segundo tanque: 50% con 600lts \n",
            "    Tercer tanque: 42% con 500lts\n"
          ]
        }
      ],
      "source": [
        "\n",
        "# Llamamos a la función que genera el reporte print(funcion(tanque1, tanque2, tanque3))\n",
        "print(combustible(100,600,500))"
      ]
    },
    {
      "cell_type": "markdown",
      "metadata": {},
      "source": [
        "En lugar de simplemente crear el informe, la función también está calculando el promedio. Mejora la legibilidad extrayendo el cálculo promedio de la función en una nueva función para que el promedio se pueda hacer de forma independiente:"
      ]
    },
    {
      "cell_type": "code",
      "execution_count": 18,
      "metadata": {},
      "outputs": [
        {
          "data": {
            "text/plain": [
              "'promedio 66 lts'"
            ]
          },
          "execution_count": 18,
          "metadata": {},
          "output_type": "execute_result"
        }
      ],
      "source": [
        "# Función promedio\n",
        "def combustible_prom(tanque_1, tanque_2, tanque_3):\n",
        "    \n",
        "    promedio= (tanque_1+tanque_2+tanque_3)/3\n",
        "    return f'promedio {round(promedio)} lts'\n",
        "\n",
        "combustible_prom(89,43,67)\n"
      ]
    },
    {
      "cell_type": "markdown",
      "metadata": {},
      "source": [
        "Ahora actualiza la función de informes para llamando a la nueva función del promedio:\n"
      ]
    },
    {
      "cell_type": "code",
      "execution_count": 27,
      "metadata": {},
      "outputs": [
        {
          "name": "stdout",
          "output_type": "stream",
          "text": [
            "Capacidad total de los tanques: 199lts \n",
            "    Primer tanque: 45% con 89lts \n",
            "    Segundo tanque: 22% con 43lts \n",
            "    Tercer tanque: 34% con 67lts \n",
            "    promedio de los tanques 66 lts\n"
          ]
        }
      ],
      "source": [
        "# Actualiza la función\n",
        "def combustible(tanque_1, tanque_2, tanque_3):\n",
        "    capacidad_total =tanque_1+tanque_2+tanque_3\n",
        "    prom_1=tanque_1/capacidad_total*100\n",
        "    prom_2=tanque_2/capacidad_total*100\n",
        "    prom_3=tanque_3/capacidad_total*100\n",
        "    promedio = (tanque_1+tanque_2+tanque_3)/3\n",
        "    return f\"\"\"Capacidad total de los tanques: {capacidad_total}lts \n",
        "    Primer tanque: {round(prom_1)}% con {tanque_1}lts \n",
        "    Segundo tanque: {round(prom_2)}% con {tanque_2}lts \n",
        "    Tercer tanque: {round(prom_3)}% con {tanque_3}lts \n",
        "    promedio de los tanques {round(promedio)} lts\"\"\"\n",
        "\n",
        "print(combustible(89,43,67))"
      ]
    },
    {
      "cell_type": "markdown",
      "metadata": {},
      "source": [
        "## Ejercicio 2: Trabajo con argumentos de palabra clave"
      ]
    },
    {
      "cell_type": "markdown",
      "metadata": {},
      "source": [
        "### Ejercicio : Trabajar con argumentos de palabras clave en funciones\n",
        "En este ejercicio, construirás un informe de cohete que requiere varias piezas de información, como el tiempo hasta el destino, el combustible a la izquierda y el nombre del destino. Comienza por crear una función que creará un informe preciso de la misión:"
      ]
    },
    {
      "cell_type": "code",
      "execution_count": 46,
      "metadata": {},
      "outputs": [
        {
          "name": "stdout",
          "output_type": "stream",
          "text": [
            "\n",
            "    Hora actual: Saturday 17:40\n",
            "    Mision a : Marte\n",
            "    Tiempo de vuelo: 2880 minutos\n",
            "    Hora estimada de arrivo: Monday 17:40 \n",
            "    Capacidad de combustible: 600000 lts\n",
            "    \n"
          ]
        }
      ],
      "source": [
        "# Función con un informe preciso de la misión. Considera hora de prelanzamiento, tiempo de vuelo, destino, tanque externo y tanque interno\n",
        "from datetime import timedelta, datetime\n",
        "\n",
        "def reporte_lanzamiento(hora, t_vuelo, destino, tanque_in, tanque_out):\n",
        "    now=datetime.now()\n",
        "    h_actual=now+timedelta(hora)\n",
        "    h_llegada=h_actual+ timedelta(t_vuelo)\n",
        "    return f\"\"\"\n",
        "    Hora actual: {h_actual.strftime(f'%A %H:%M')}\n",
        "    Mision a : {destino}\n",
        "    Tiempo de vuelo: {t_vuelo*1440} minutos\n",
        "    Hora estimada de arrivo: {h_llegada.strftime(f'%A %H:%M')} \n",
        "    Capacidad de combustible: {tanque_in + tanque_out} lts\n",
        "    \"\"\"\n",
        "\n",
        "\n",
        "print(reporte_lanzamiento(17, 2, \"Marte\", 250000, 350000))"
      ]
    },
    {
      "cell_type": "markdown",
      "metadata": {},
      "source": [
        "La función es problemática porque no se puede adaptar para minutos adicionales o tanques adicionales de combustible. Hazlo más flexible permitiendo cualquier número de pasos basados en el tiempo y cualquier número de tanques. En lugar de usar `*args` y `**kwargs`, aprovecha el hecho de que puedes usar cualquier nombre que desees. Asegurate que la función sea más legible mediante el uso de nombres de variables que están asociados con las entradas, como `*minutes` y `**fuel_reservoirs`:"
      ]
    },
    {
      "cell_type": "code",
      "execution_count": 7,
      "metadata": {},
      "outputs": [
        {
          "name": "stdout",
          "output_type": "stream",
          "text": [
            "\n",
            "    Hora actual: Tuesday 21:30\n",
            "    Mision a : Marte\n",
            "    Tiempo de vuelo: 112320 minutos\n",
            "    Hora estimada de arrivo: Wednesday 21:30 \n",
            "    Capacidad de combustible: 640000 lts\n",
            "    \n"
          ]
        }
      ],
      "source": [
        "# Escribe tu nueva función de reporte considerando lo anterior\n",
        "from datetime import timedelta, datetime\n",
        "\n",
        "def reporte_lanzamiento(Destino,*tiempo,**res_combustible):\n",
        "    now=datetime.now()\n",
        "    h_actual=now+timedelta(tiempo[1])\n",
        "    h_llegada=h_actual+ timedelta(sum(tiempo))\n",
        "    return f\"\"\"\n",
        "    Hora actual: {h_actual.strftime(f'%A %H:%M')}\n",
        "    Mision a : {Destino}\n",
        "    Tiempo de vuelo: {sum(tiempo)*1440} minutos\n",
        "    Hora estimada de arrivo: {h_llegada.strftime(f'%A %H:%M')} \n",
        "    Capacidad de combustible: {sum(res_combustible.values())} lts\n",
        "    \"\"\"\n",
        "print(reporte_lanzamiento(\"Marte\",18,20,40, tanque_1=250000,tanque_2=350000,reserva_1=40000))"
      ]
    },
    {
      "cell_type": "markdown",
      "metadata": {},
      "source": [
        "Debido a que el combustible que queda en los tanques es específico de cada tanque, actualiza la función para usar el nombre de cada tanque en el informe:"
      ]
    },
    {
      "cell_type": "code",
      "execution_count": 10,
      "metadata": {},
      "outputs": [
        {
          "name": "stdout",
          "output_type": "stream",
          "text": [
            "\n",
            "    Hora actual: Tuesday 21:38\n",
            "    Mision a : Marte\n",
            "    Tiempo de vuelo: 112320 minutos\n",
            "    Hora estimada de arrivo: Wednesday 21:38 \n",
            "    Capacidad de combustible: 640000 lts\n",
            "    \n",
            "tanque_1 Contiene --> 250000 litros de combustible\n",
            "tanque_2 Contiene --> 350000 litros de combustible\n",
            "reserva_1 Contiene --> 40000 litros de combustible\n"
          ]
        }
      ],
      "source": [
        "# Escribe tu nueva función\n",
        "def reporte_lanzamiento(Destino,*tiempo,**res_combustible):\n",
        "    now=datetime.now()\n",
        "    h_actual=now+timedelta(tiempo[1])\n",
        "    h_llegada=h_actual+ timedelta(sum(tiempo))\n",
        "    reporte_mision= f\"\"\"\n",
        "    Hora actual: {h_actual.strftime(f'%A %H:%M')}\n",
        "    Mision a : {Destino}\n",
        "    Tiempo de vuelo: {sum(tiempo)*1440} minutos\n",
        "    Hora estimada de arrivo: {h_llegada.strftime(f'%A %H:%M')} \n",
        "    Capacidad de combustible: {sum(res_combustible.values())} lts\n",
        "    \"\"\"\n",
        "    for gas_tank, litros in res_combustible.items():\n",
        "        reporte_mision += f\"\\n{gas_tank} Contiene --> {litros} litros de combustible\"\n",
        "    return reporte_mision\n",
        "print(reporte_lanzamiento(\"Marte\",18,20,40, tanque_1=250000,tanque_2=350000,reserva_1=40000))"
      ]
    }
  ],
  "metadata": {
    "interpreter": {
      "hash": "205095b8b86ea82a021a8fc2ffba2b3bc9f8d0be25999901963b225939f75778"
    },
    "kernelspec": {
      "display_name": "Python 3.8.10 64-bit ('tmp': conda)",
      "name": "python3"
    },
    "language_info": {
      "codemirror_mode": {
        "name": "ipython",
        "version": 3
      },
      "file_extension": ".py",
      "mimetype": "text/x-python",
      "name": "python",
      "nbconvert_exporter": "python",
      "pygments_lexer": "ipython3",
      "version": "3.10.2"
    },
    "nteract": {
      "version": "nteract-front-end@1.0.0"
    },
    "orig_nbformat": 4
  },
  "nbformat": 4,
  "nbformat_minor": 2
}
