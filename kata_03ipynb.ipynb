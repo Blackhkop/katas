{
 "cells": [
  {
   "cell_type": "markdown",
   "metadata": {},
   "source": [
    "# Declaraciones \n",
    "\n",
    "if, else y elif"
   ]
  },
  {
   "cell_type": "markdown",
   "metadata": {},
   "source": [
    "# Problema\n",
    "Imprimir advertencia si un asteroide o cualquier otro objeto sobrepasa la velocidad de 25 Km/s"
   ]
  },
  {
   "cell_type": "code",
   "execution_count": 5,
   "metadata": {},
   "outputs": [
    {
     "name": "stdout",
     "output_type": "stream",
     "text": [
      "Alerta colicion \n"
     ]
    }
   ],
   "source": [
    "# 2 asteroides se dirigen a la tierra el primero viaja a 49 km/s y el segundo a 19 km/s y detectar si abra luces en el cielo\n",
    "\n",
    "vel_1=49\n",
    "vel_2=23\n",
    "\n",
    "if vel_1>=vel_2:\n",
    "    if vel_1>=25:\n",
    "       print(\"Alerta colicion \")\n",
    "    elif vel_1>=20:\n",
    "        print(\"Posible lluvia de meteoritos\")\n",
    "    else:\n",
    "        print(\"Sin problemas\")   \n",
    "\n",
    "elif vel_2>=25:\n",
    "    print(\"Alerta colicion\")\n",
    "elif vel_2>=20:\n",
    "        print(\"Posible lluvia de meteoritos\")    \n",
    "else:    \n",
    "    print(\"Sin problemas\")\n"
   ]
  },
  {
   "cell_type": "markdown",
   "metadata": {},
   "source": [
    "# Uso de operadores \n",
    "And y or"
   ]
  },
  {
   "cell_type": "markdown",
   "metadata": {},
   "source": [
    "# Problema\n",
    "Mejorar el sistema de advertencia anterior en cuestion al diametro de los asteroides"
   ]
  },
  {
   "cell_type": "code",
   "execution_count": 6,
   "metadata": {},
   "outputs": [
    {
     "name": "stdout",
     "output_type": "stream",
     "text": [
      "Alerta colicion\n"
     ]
    }
   ],
   "source": [
    "# si un asteroide mide mas de 25 metros hasta 1 km causaria mucho daño si es de 25 metros o menos solo provocaran luces en el cielo\n",
    "\n",
    "\n",
    "vel_1=20\n",
    "diam_1=100\n",
    "vel_2=10\n",
    "diam_2=10\n",
    "\n",
    "if vel_1>=vel_2:\n",
    "    if vel_1>=25 and diam_1>25:\n",
    "       print(\"Alerta colicion \")\n",
    "    elif vel_1>=20 and diam_1<=25:\n",
    "        print(\"Posible lluvia de asteroides\")\n",
    "    elif diam_2>=25 or diam_1>=25:\n",
    "        print(\"Alerta colicion\") \n",
    "    else:\n",
    "        print(\"Sin problemas\")   \n",
    "\n",
    "elif vel_2>=25 and diam_2>25:\n",
    "    print(\"Alerta colicion\")\n",
    "elif vel_2>=20 and diam_2<=25:\n",
    "    print(\"Posible lluvia de asteroides\")    \n",
    "elif diam_2>=25 or diam_1>=25:\n",
    "    print(\"Alerta colicion\") \n",
    "else:    \n",
    "    print(\"Sin problemas\")\n",
    "\n",
    "# nota: aqui el asteroide debe estar entre 20 y 25 km/s para generar el destello   "
   ]
  }
 ],
 "metadata": {
  "interpreter": {
   "hash": "79244695580202974c145a60582da0e265dd89bd47e5824df1ae3dac02774f97"
  },
  "kernelspec": {
   "display_name": "Python 3.10.2 ('proyecto': venv)",
   "language": "python",
   "name": "python3"
  },
  "language_info": {
   "codemirror_mode": {
    "name": "ipython",
    "version": 3
   },
   "file_extension": ".py",
   "mimetype": "text/x-python",
   "name": "python",
   "nbconvert_exporter": "python",
   "pygments_lexer": "ipython3",
   "version": "3.10.2"
  },
  "orig_nbformat": 4
 },
 "nbformat": 4,
 "nbformat_minor": 2
}
